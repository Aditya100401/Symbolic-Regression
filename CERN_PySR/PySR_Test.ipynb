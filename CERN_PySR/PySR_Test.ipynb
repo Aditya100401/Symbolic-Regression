{
 "cells": [
  {
   "cell_type": "code",
   "execution_count": 2,
   "metadata": {},
   "outputs": [],
   "source": [
    "import pickle\n",
    "\n",
    "model = pickle.load(open('hall_of_fame_2022-08-29_151325.575.pkl', 'rb'))"
   ]
  },
  {
   "cell_type": "code",
   "execution_count": 3,
   "metadata": {},
   "outputs": [
    {
     "data": {
      "text/latex": [
       "$\\displaystyle \\left(\\left|{\\eta_{1} - \\eta_{2}}\\right| + \\left|{\\log{\\left(\\left|{pt_{1} pt_{2}}\\right| \\right)} - 1.5919594}\\right|^{1.2116214}\\right)^{2}$"
      ],
      "text/plain": [
       "(Abs(eta1 - eta2) + Abs(log(Abs(pt1*pt2)) - 1.5919594)**1.2116214)**2"
      ]
     },
     "execution_count": 3,
     "metadata": {},
     "output_type": "execute_result"
    }
   ],
   "source": [
    "model.sympy()"
   ]
  },
  {
   "cell_type": "code",
   "execution_count": 4,
   "metadata": {},
   "outputs": [
    {
     "data": {
      "text/plain": [
       "PySRRegressor.equations_ = [\n",
       "\t   pick     score                                           equation  \\\n",
       "\t0        0.000000                                          29.920486   \n",
       "\t1        0.248182                                        (pt2 + pt1)   \n",
       "\t2        0.028906                          square(log_abs(E2 * pt1))   \n",
       "\t3        0.028304              square(log_abs(pt2 * pt1) / 0.830781)   \n",
       "\t4        0.003459            (sqrt_abs((E2 + pt2) * pt1) - -8.06364)   \n",
       "\t5        0.477909     square(acosh_abs((pt2 * pt1) * (eta1 - eta2)))   \n",
       "\t6        0.533907   square(log_abs((pt2 * pt1) * cosh(eta1 - eta2)))   \n",
       "\t7        0.154750  (square(acosh_abs(pt2 * pt1) + abs(eta1 - eta2...   \n",
       "\t8        0.106169  (square(asinh(pt2 * pt1) + acosh_abs(cosh(eta1...   \n",
       "\t9  >>>>  0.390913  square(pow_abs(log_abs(pt2 * pt1) - 1.5919594,...   \n",
       "\t\n",
       "\t         loss  complexity  \n",
       "\t0  637.413500           1  \n",
       "\t1  388.018900           3  \n",
       "\t2  366.223100           5  \n",
       "\t3  346.068080           7  \n",
       "\t4  344.873140           8  \n",
       "\t5  213.848390           9  \n",
       "\t6  125.381370          10  \n",
       "\t7   92.006570          12  \n",
       "\t8   82.738970          13  \n",
       "\t9   55.967884          14  \n",
       "]"
      ]
     },
     "execution_count": 4,
     "metadata": {},
     "output_type": "execute_result"
    }
   ],
   "source": [
    "model"
   ]
  },
  {
   "cell_type": "code",
   "execution_count": 5,
   "metadata": {},
   "outputs": [],
   "source": [
    "import sympy as sp\n",
    "\n",
    "f = sp.lambdify(sp.symbols(['eta1', 'eta2', 'pt1', 'pt2']), model.sympy())"
   ]
  },
  {
   "cell_type": "code",
   "execution_count": 6,
   "metadata": {},
   "outputs": [],
   "source": [
    "import pandas as pd\n",
    "import numpy as np\n",
    "from sklearn.model_selection import train_test_split\n",
    "from sklearn.metrics import mean_squared_error, r2_score\n",
    "\n",
    "df = pd.read_csv('dielectron.csv')\n",
    "df = df.replace([np.Infinity, -np.Infinity], np.nan)\n",
    "df = df.dropna()\n",
    "temp = df.columns\n",
    "\n",
    "tmp = []\n",
    "for i in temp:\n",
    "    if i not in ['eta1', 'eta2', 'pt1', 'pt2']:\n",
    "        tmp.append(i)\n",
    "\n",
    "y = df['M']\n",
    "X = df.drop(tmp, axis=1)\n",
    "\n",
    "X_train, X_test, y_train, y_test = train_test_split(\n",
    "    X, y, test_size=0.5, random_state=42)"
   ]
  },
  {
   "cell_type": "code",
   "execution_count": 7,
   "metadata": {},
   "outputs": [
    {
     "name": "stdout",
     "output_type": "stream",
     "text": [
      "Mean Squared Error: 55.90140885890897\n",
      "Root Mean Squared Error: (7.476724473919644+0j)\n",
      "R2 Score: 0.9118758720569022\n"
     ]
    }
   ],
   "source": [
    "from cmath import sqrt\n",
    "\n",
    "\n",
    "y_pred = []\n",
    "\n",
    "for i in X_test.index:\n",
    "    t = [X_test['eta1'][i], X_test['eta2'][i], X_test['pt1'][i], X_test['pt2'][i]]\n",
    "    y_pred.append(f(*t))\n",
    "\n",
    "print(f\"Mean Squared Error: {mean_squared_error(y_test, y_pred)}\")\n",
    "print(f\"Root Mean Squared Error: {sqrt(mean_squared_error(y_test, y_pred))}\")\n",
    "print(f\"R2 Score: {r2_score(y_test, y_pred)}\")"
   ]
  }
 ],
 "metadata": {
  "kernelspec": {
   "display_name": "Python 3.10.4 64-bit",
   "language": "python",
   "name": "python3"
  },
  "language_info": {
   "codemirror_mode": {
    "name": "ipython",
    "version": 3
   },
   "file_extension": ".py",
   "mimetype": "text/x-python",
   "name": "python",
   "nbconvert_exporter": "python",
   "pygments_lexer": "ipython3",
   "version": "3.10.4"
  },
  "orig_nbformat": 4,
  "vscode": {
   "interpreter": {
    "hash": "3b97bdc2c87e206e8291e5ab4f714e0f91846bfc9349b2ee1278ba67b5e1fb2e"
   }
  }
 },
 "nbformat": 4,
 "nbformat_minor": 2
}
