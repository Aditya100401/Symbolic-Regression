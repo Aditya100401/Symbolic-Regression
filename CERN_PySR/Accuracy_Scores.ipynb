{
 "cells": [
  {
   "cell_type": "code",
   "execution_count": 91,
   "metadata": {},
   "outputs": [],
   "source": [
    "import pandas as pd\n",
    "import numpy as np\n",
    "from sklearn.model_selection import train_test_split\n",
    "from pysr import PySRRegressor\n",
    "import pickle\n",
    "import random\n",
    "from sklearn.metrics import r2_score\n",
    "import sympy as sp\n"
   ]
  },
  {
   "cell_type": "code",
   "execution_count": 92,
   "metadata": {},
   "outputs": [
    {
     "name": "stdout",
     "output_type": "stream",
     "text": [
      "Random State: 95\n"
     ]
    }
   ],
   "source": [
    "df = pd.read_csv('dielectron.csv')\n",
    "df = df.replace([np.Infinity, -np.Infinity], np.nan)\n",
    "df = df.dropna()\n",
    "\n",
    "randomState = 95 # random.randint(1, 100)\n",
    "\n",
    "\n",
    "print(f\"Random State: {randomState}\")"
   ]
  },
  {
   "cell_type": "code",
   "execution_count": 93,
   "metadata": {},
   "outputs": [
    {
     "data": {
      "text/latex": [
       "$\\displaystyle pt_{1} + pt_{2} + e^{2 \\sqrt{\\left|{\\eta_{1} - \\eta_{2}}\\right|}} - 14.135289$"
      ],
      "text/plain": [
       "pt1 + pt2 + exp(2*sqrt(Abs(eta1 - eta2))) - 14.135289"
      ]
     },
     "execution_count": 93,
     "metadata": {},
     "output_type": "execute_result"
    }
   ],
   "source": [
    "model = pickle.load(open('Model1\\hall_of_fame_2022-08-27_225158.090.pkl', 'rb'))\n",
    "model.sympy()"
   ]
  },
  {
   "cell_type": "code",
   "execution_count": 94,
   "metadata": {},
   "outputs": [],
   "source": [
    "from math import sqrt\n",
    "from sklearn.metrics import mean_squared_error"
   ]
  },
  {
   "cell_type": "code",
   "execution_count": 95,
   "metadata": {},
   "outputs": [],
   "source": [
    "f = sp.lambdify(sp.symbols(['pt1', 'pt2', 'eta1', 'eta2']), model.sympy())"
   ]
  },
  {
   "cell_type": "code",
   "execution_count": 96,
   "metadata": {},
   "outputs": [
    {
     "name": "stdout",
     "output_type": "stream",
     "text": [
      "Mean Squared Error: 117.51963266463598\n",
      "Root Mean Squared Error: 10.840647243805877\n",
      "R2 Score: 0.8144388028499242\n"
     ]
    }
   ],
   "source": [
    "temp = df.columns\n",
    "\n",
    "tmp = []\n",
    "for i in temp:\n",
    "    if i not in ['eta1', 'eta2', 'pt1', 'pt2']:\n",
    "        tmp.append(i)\n",
    "\n",
    "y = df['M']\n",
    "X = df.drop(tmp, axis=1)\n",
    "\n",
    "X_train, X_test, y_train, y_test = train_test_split(\n",
    "    X, y, test_size=0.5, random_state=randomState)\n",
    "\n",
    "y_pred = []\n",
    "\n",
    "for i in X_test.index:\n",
    "    t = [X_test['pt1'][i], X_test['pt2'][i], X_test['eta1'][i], X_test['eta2'][i]]\n",
    "    y_pred.append(f(*t))\n",
    "\n",
    "print(f\"Mean Squared Error: {mean_squared_error(y_test, y_pred)}\")\n",
    "print(f\"Root Mean Squared Error: {sqrt(mean_squared_error(y_test, y_pred))}\")\n",
    "print(f\"R2 Score: {r2_score(y_test, y_pred)}\")"
   ]
  },
  {
   "cell_type": "code",
   "execution_count": 97,
   "metadata": {},
   "outputs": [
    {
     "data": {
      "text/latex": [
       "$\\displaystyle \\left|{- 7.486381 \\eta_{1} \\eta_{2} + pt_{1} + pt_{2}}\\right|$"
      ],
      "text/plain": [
       "Abs(-7.486381*eta1*eta2 + pt1 + pt2)"
      ]
     },
     "execution_count": 97,
     "metadata": {},
     "output_type": "execute_result"
    }
   ],
   "source": [
    "model = pickle.load(open('Model2\\hall_of_fame_2022-08-28_104840.956.pkl', 'rb'))\n",
    "model.sympy()"
   ]
  },
  {
   "cell_type": "code",
   "execution_count": 98,
   "metadata": {},
   "outputs": [],
   "source": [
    "f = sp.lambdify(sp.symbols(['eta1', 'eta2', 'pt1', 'pt2']), model.sympy())"
   ]
  },
  {
   "cell_type": "code",
   "execution_count": 99,
   "metadata": {},
   "outputs": [
    {
     "name": "stdout",
     "output_type": "stream",
     "text": [
      "Mean Squared Error: 184.09409190021898\n",
      "Root Mean Squared Error: 13.568127796428621\n",
      "R2 Score: 0.7093190362605656\n"
     ]
    }
   ],
   "source": [
    "temp = df.columns\n",
    "\n",
    "tmp = []\n",
    "for i in temp:\n",
    "    if i not in ['eta1', 'eta2', 'pt1', 'pt2']:\n",
    "        tmp.append(i)\n",
    "\n",
    "y = df['M']\n",
    "X = df.drop(tmp, axis=1)\n",
    "\n",
    "X_train, X_test, y_train, y_test = train_test_split(\n",
    "    X, y, test_size=0.5, random_state=randomState)\n",
    "\n",
    "y_pred = []\n",
    "\n",
    "for i in X_test.index:\n",
    "    t = [X_test['eta1'][i], X_test['eta2'][i], X_test['pt1'][i], X_test['pt2'][i]]\n",
    "    y_pred.append(f(*t))\n",
    "\n",
    "print(f\"Mean Squared Error: {mean_squared_error(y_test, y_pred)}\")\n",
    "print(f\"Root Mean Squared Error: {sqrt(mean_squared_error(y_test, y_pred))}\")\n",
    "print(f\"R2 Score: {r2_score(y_test, y_pred)}\")"
   ]
  },
  {
   "cell_type": "code",
   "execution_count": 100,
   "metadata": {},
   "outputs": [
    {
     "data": {
      "text/latex": [
       "$\\displaystyle 1.26469873883071 \\sqrt{0.625209875139961 e^{\\left|{\\eta_{1} - \\eta_{2}}\\right|} + 1} \\sqrt{\\left|{pt_{1} pt_{2}}\\right|}$"
      ],
      "text/plain": [
       "(1.26469873883071*sqrt(0.625209875139961*exp(Abs(eta1 - eta2)) + 1))*sqrt(Abs(pt1*pt2))"
      ]
     },
     "execution_count": 100,
     "metadata": {},
     "output_type": "execute_result"
    }
   ],
   "source": [
    "model = pickle.load(open('Model3\\hall_of_fame_2022-08-28_191735.979.pkl', 'rb'))\n",
    "model.sympy()"
   ]
  },
  {
   "cell_type": "code",
   "execution_count": 101,
   "metadata": {},
   "outputs": [
    {
     "name": "stdout",
     "output_type": "stream",
     "text": [
      "1.26 \\sqrt{0.625 e^{\\left|{\\eta_{1} - \\eta_{2}}\\right|} + 1} \\sqrt{\\left|{pt_{1} pt_{2}}\\right|}\n"
     ]
    }
   ],
   "source": [
    "print(model.latex())"
   ]
  },
  {
   "cell_type": "code",
   "execution_count": 102,
   "metadata": {},
   "outputs": [],
   "source": [
    "f = sp.lambdify(sp.symbols(['eta1', 'eta2', 'pt1', 'pt2']), model.sympy())"
   ]
  },
  {
   "cell_type": "code",
   "execution_count": 103,
   "metadata": {},
   "outputs": [
    {
     "name": "stdout",
     "output_type": "stream",
     "text": [
      "Mean Squared Error: 31.51676816462251\n",
      "Root Mean Squared Error: 5.613979708248197\n",
      "R2 Score: 0.9502356406472277\n"
     ]
    }
   ],
   "source": [
    "temp = df.columns\n",
    "\n",
    "tmp = []\n",
    "for i in temp:\n",
    "    if i not in ['eta1', 'eta2', 'pt1', 'pt2']:\n",
    "        tmp.append(i)\n",
    "\n",
    "y = df['M']\n",
    "X = df.drop(tmp, axis=1)\n",
    "\n",
    "X_train, X_test, y_train, y_test = train_test_split(\n",
    "    X, y, test_size=0.5, random_state=randomState)\n",
    "\n",
    "y_pred = []\n",
    "\n",
    "for i in X_test.index:\n",
    "    t = [X_test['eta1'][i], X_test['eta2'][i], X_test['pt1'][i], X_test['pt2'][i]]\n",
    "    y_pred.append(f(*t))\n",
    "\n",
    "print(f\"Mean Squared Error: {mean_squared_error(y_test, y_pred)}\")\n",
    "print(f\"Root Mean Squared Error: {sqrt(mean_squared_error(y_test, y_pred))}\")\n",
    "print(f\"R2 Score: {r2_score(y_test, y_pred)}\")"
   ]
  },
  {
   "cell_type": "code",
   "execution_count": 104,
   "metadata": {},
   "outputs": [
    {
     "data": {
      "text/latex": [
       "$\\displaystyle \\left(- \\eta_{1} \\operatorname{asinh}{\\left(\\eta_{2} \\right)} + \\left(\\frac{\\log{\\left(\\left|{pt_{1}}\\right| \\right)}}{\\log{\\left(10 \\right)}} + 0.64818555\\right) \\log{\\left(\\left|{E_{2}}\\right| + 1 \\right)}\\right)^{2}$"
      ],
      "text/plain": [
       "(-eta1*asinh(eta2) + (log(Abs(pt1))/log(10) + 0.64818555)*log(Abs(E2) + 1))**2"
      ]
     },
     "execution_count": 104,
     "metadata": {},
     "output_type": "execute_result"
    }
   ],
   "source": [
    "model = pickle.load(open('Model4\\hall_of_fame_2022-08-28_224212.170.pkl', 'rb'))\n",
    "model.sympy()"
   ]
  },
  {
   "cell_type": "code",
   "execution_count": 105,
   "metadata": {},
   "outputs": [],
   "source": [
    "f = sp.lambdify(sp.symbols(['eta1', 'eta2', 'pt1', 'E2']), model.sympy())"
   ]
  },
  {
   "cell_type": "code",
   "execution_count": 106,
   "metadata": {},
   "outputs": [
    {
     "name": "stdout",
     "output_type": "stream",
     "text": [
      "Mean Squared Error: 77.02859819033718\n",
      "Root Mean Squared Error: 8.776593769244261\n",
      "R2 Score: 0.8783733528526223\n"
     ]
    }
   ],
   "source": [
    "temp = df.columns\n",
    "\n",
    "tmp = []\n",
    "for i in temp:\n",
    "    if i not in ['eta1', 'eta2', 'pt1', 'E2']:\n",
    "        tmp.append(i)\n",
    "\n",
    "y = df['M']\n",
    "X = df.drop(tmp, axis=1)\n",
    "\n",
    "X_train, X_test, y_train, y_test = train_test_split(\n",
    "    X, y, test_size=0.5, random_state=randomState)\n",
    "\n",
    "y_pred = []\n",
    "\n",
    "for i in X_test.index:\n",
    "    t = [X_test['eta1'][i], X_test['eta2'][i], X_test['pt1'][i], X_test['E2'][i]]\n",
    "    y_pred.append(f(*t))\n",
    "\n",
    "print(f\"Mean Squared Error: {mean_squared_error(y_test, y_pred)}\")\n",
    "print(f\"Root Mean Squared Error: {sqrt(mean_squared_error(y_test, y_pred))}\")\n",
    "print(f\"R2 Score: {r2_score(y_test, y_pred)}\")"
   ]
  },
  {
   "cell_type": "code",
   "execution_count": 107,
   "metadata": {},
   "outputs": [
    {
     "data": {
      "text/latex": [
       "$\\displaystyle pt_{1} + pt_{2} + 3.10981999677698 \\left(\\eta_{1} - \\eta_{2}\\right)^{2} - 10.374627$"
      ],
      "text/plain": [
       "pt1 + pt2 + 3.10981999677698*(eta1 - eta2)**2 - 10.374627"
      ]
     },
     "execution_count": 107,
     "metadata": {},
     "output_type": "execute_result"
    }
   ],
   "source": [
    "model = pickle.load(open('Model5\\hall_of_fame_2022-08-29_121205.470.pkl', 'rb'))\n",
    "model.sympy()"
   ]
  },
  {
   "cell_type": "code",
   "execution_count": 108,
   "metadata": {},
   "outputs": [],
   "source": [
    "f = sp.lambdify(sp.symbols(['pt1', 'pt2', 'eta1', 'eta2']), model.sympy())"
   ]
  },
  {
   "cell_type": "code",
   "execution_count": 109,
   "metadata": {},
   "outputs": [
    {
     "name": "stdout",
     "output_type": "stream",
     "text": [
      "Mean Squared Error: 118.00116062743324\n",
      "Root Mean Squared Error: 10.862833913276647\n",
      "R2 Score: 0.8136784796323315\n"
     ]
    }
   ],
   "source": [
    "temp = df.columns\n",
    "\n",
    "tmp = []\n",
    "for i in temp:\n",
    "    if i not in ['eta1', 'eta2', 'pt1', 'pt2']:\n",
    "        tmp.append(i)\n",
    "\n",
    "y = df['M']\n",
    "X = df.drop(tmp, axis=1)\n",
    "\n",
    "X_train, X_test, y_train, y_test = train_test_split(\n",
    "    X, y, test_size=0.5, random_state=randomState)\n",
    "\n",
    "y_pred = []\n",
    "\n",
    "for i in X_test.index:\n",
    "    t = [X_test['pt1'][i], X_test['pt2'][i], X_test['eta1'][i], X_test['eta2'][i]]\n",
    "    y_pred.append(f(*t))\n",
    "\n",
    "print(f\"Mean Squared Error: {mean_squared_error(y_test, y_pred)}\")\n",
    "print(f\"Root Mean Squared Error: {sqrt(mean_squared_error(y_test, y_pred))}\")\n",
    "print(f\"R2 Score: {r2_score(y_test, y_pred)}\")"
   ]
  },
  {
   "cell_type": "code",
   "execution_count": 110,
   "metadata": {},
   "outputs": [
    {
     "data": {
      "text/latex": [
       "$\\displaystyle \\left(\\left|{\\eta_{1} - \\eta_{2}}\\right| + \\left|{\\log{\\left(\\left|{pt_{1} pt_{2}}\\right| \\right)} - 1.5919594}\\right|^{1.2116214}\\right)^{2}$"
      ],
      "text/plain": [
       "(Abs(eta1 - eta2) + Abs(log(Abs(pt1*pt2)) - 1.5919594)**1.2116214)**2"
      ]
     },
     "execution_count": 110,
     "metadata": {},
     "output_type": "execute_result"
    }
   ],
   "source": [
    "model = pickle.load(open('Model6\\hall_of_fame_2022-08-29_151325.575.pkl', 'rb'))\n",
    "model.sympy()"
   ]
  },
  {
   "cell_type": "code",
   "execution_count": 111,
   "metadata": {},
   "outputs": [],
   "source": [
    "f = sp.lambdify(sp.symbols(['eta1', 'eta2', 'pt1', 'pt2']), model.sympy())"
   ]
  },
  {
   "cell_type": "code",
   "execution_count": 112,
   "metadata": {},
   "outputs": [
    {
     "name": "stdout",
     "output_type": "stream",
     "text": [
      "Mean Squared Error: 55.81130412068441\n",
      "Root Mean Squared Error: 7.470696361162353\n",
      "R2 Score: 0.9118750444302774\n"
     ]
    }
   ],
   "source": [
    "temp = df.columns\n",
    "\n",
    "tmp = []\n",
    "for i in temp:\n",
    "    if i not in ['eta1', 'eta2', 'pt1', 'pt2']:\n",
    "        tmp.append(i)\n",
    "\n",
    "y = df['M']\n",
    "X = df.drop(tmp, axis=1)\n",
    "\n",
    "X_train, X_test, y_train, y_test = train_test_split(\n",
    "    X, y, test_size=0.5, random_state=randomState)\n",
    "\n",
    "y_pred = []\n",
    "\n",
    "for i in X_test.index:\n",
    "    t = [X_test['eta1'][i], X_test['eta2'][i], X_test['pt1'][i], X_test['pt2'][i]]\n",
    "    y_pred.append(f(*t))\n",
    "\n",
    "print(f\"Mean Squared Error: {mean_squared_error(y_test, y_pred)}\")\n",
    "print(f\"Root Mean Squared Error: {sqrt(mean_squared_error(y_test, y_pred))}\")\n",
    "print(f\"R2 Score: {r2_score(y_test, y_pred)}\")"
   ]
  },
  {
   "cell_type": "code",
   "execution_count": 113,
   "metadata": {},
   "outputs": [
    {
     "data": {
      "text/latex": [
       "$\\displaystyle pt_{1} + pt_{2} + \\log{\\left(0.00020330626^{\\operatorname{re}{\\left(\\eta_{1} \\eta_{2}\\right)}} \\right)}$"
      ],
      "text/plain": [
       "pt1 + pt2 + log(0.00020330626**re(eta1*eta2))"
      ]
     },
     "execution_count": 113,
     "metadata": {},
     "output_type": "execute_result"
    }
   ],
   "source": [
    "model = pickle.load(open('Model7\\hall_of_fame_2022-08-29_165750.465.pkl', 'rb'))\n",
    "model.sympy()"
   ]
  },
  {
   "cell_type": "code",
   "execution_count": 114,
   "metadata": {},
   "outputs": [],
   "source": [
    "f = sp.lambdify(sp.symbols(['pt1', 'pt2', 'eta1', 'eta2']), model.sympy())"
   ]
  },
  {
   "cell_type": "code",
   "execution_count": 115,
   "metadata": {},
   "outputs": [
    {
     "name": "stdout",
     "output_type": "stream",
     "text": [
      "Mean Squared Error: 306.04560813363037\n",
      "Root Mean Squared Error: 17.49415925769599\n",
      "R2 Score: 0.5167599817992903\n"
     ]
    }
   ],
   "source": [
    "temp = df.columns\n",
    "\n",
    "tmp = []\n",
    "for i in temp:\n",
    "    if i not in ['eta1', 'eta2', 'pt1', 'pt2']:\n",
    "        tmp.append(i)\n",
    "\n",
    "y = df['M']\n",
    "X = df.drop(tmp, axis=1)\n",
    "\n",
    "X_train, X_test, y_train, y_test = train_test_split(\n",
    "    X, y, test_size=0.5, random_state=randomState)\n",
    "\n",
    "y_pred = []\n",
    "\n",
    "for i in X_test.index:\n",
    "    t = [X_test['pt1'][i], X_test['pt2'][i], X_test['eta1'][i], X_test['eta2'][i]]\n",
    "    y_pred.append(f(*t))\n",
    "\n",
    "print(f\"Mean Squared Error: {mean_squared_error(y_test, y_pred)}\")\n",
    "print(f\"Root Mean Squared Error: {sqrt(mean_squared_error(y_test, y_pred))}\")\n",
    "print(f\"R2 Score: {r2_score(y_test, y_pred)}\")"
   ]
  },
  {
   "cell_type": "code",
   "execution_count": 116,
   "metadata": {},
   "outputs": [
    {
     "data": {
      "text/latex": [
       "$\\displaystyle pt_{1} + pt_{2} + \\left(\\log{\\left(\\left|{\\frac{\\operatorname{inv}{\\left(pz_{1} \\right)}\\bmod{pz_{2}}}{\\operatorname{inv}{\\left(pz_{1} \\right)}}}\\right| \\right)}^{2}\\right) - 9.220799$"
      ],
      "text/plain": [
       "pt1 + pt2 + log(Abs(Mod(inv(pz1), pz2)/inv(pz1)))**2 - 9.220799"
      ]
     },
     "execution_count": 116,
     "metadata": {},
     "output_type": "execute_result"
    }
   ],
   "source": [
    "model = pickle.load(open('Model8\\hall_of_fame_2022-08-29_182237.043.pkl', 'rb'))\n",
    "model.sympy()"
   ]
  },
  {
   "cell_type": "code",
   "execution_count": 117,
   "metadata": {},
   "outputs": [],
   "source": [
    "import math\n",
    "def inv(pz2):\n",
    "    return 1 / pz2\n",
    "def f(pt1, pt2, pz1, pz2):\n",
    "    return (pt1 + pt2 + (math.log(abs((inv(pz1)%pz2)/inv(pz1))))**2 - 9.220799)"
   ]
  },
  {
   "cell_type": "code",
   "execution_count": 118,
   "metadata": {},
   "outputs": [
    {
     "name": "stdout",
     "output_type": "stream",
     "text": [
      "Mean Squared Error: 118.75152814616652\n",
      "Root Mean Squared Error: 10.897317474780962\n",
      "R2 Score: 0.8124936640238959\n"
     ]
    }
   ],
   "source": [
    "temp = df.columns\n",
    "\n",
    "tmp = []\n",
    "for i in temp:\n",
    "    if i not in ['pz1', 'pz2', 'pt1', 'pt2']:\n",
    "        tmp.append(i)\n",
    "\n",
    "y = df['M']\n",
    "X = df.drop(tmp, axis=1)\n",
    "\n",
    "X_train, X_test, y_train, y_test = train_test_split(\n",
    "    X, y, test_size=0.5, random_state=randomState)\n",
    "\n",
    "y_pred = []\n",
    "\n",
    "for i in X_test.index:\n",
    "    t = [X_test['pt1'][i], X_test['pt2'][i], X_test['pz1'][i], X_test['pz2'][i]]\n",
    "    y_pred.append(f(*t))\n",
    "\n",
    "print(f\"Mean Squared Error: {mean_squared_error(y_test, y_pred)}\")\n",
    "print(f\"Root Mean Squared Error: {sqrt(mean_squared_error(y_test, y_pred))}\")\n",
    "print(f\"R2 Score: {r2_score(y_test, y_pred)}\")"
   ]
  },
  {
   "cell_type": "code",
   "execution_count": 119,
   "metadata": {},
   "outputs": [
    {
     "data": {
      "text/latex": [
       "$\\displaystyle pt_{1} + pt_{2} + 3.113619057025 \\left(- \\eta_{1} + \\eta_{2}\\right)^{2} - 10.434319$"
      ],
      "text/plain": [
       "pt1 + pt2 + 3.113619057025*(-eta1 + eta2)**2 - 10.434319"
      ]
     },
     "execution_count": 119,
     "metadata": {},
     "output_type": "execute_result"
    }
   ],
   "source": [
    "model = pickle.load(open('Model9\\hall_of_fame_2022-08-29_192319.221.pkl', 'rb'))\n",
    "model.sympy()"
   ]
  },
  {
   "cell_type": "code",
   "execution_count": 120,
   "metadata": {},
   "outputs": [],
   "source": [
    "f = sp.lambdify(sp.symbols(['pt1', 'pt2', 'eta1', 'eta2']), model.sympy())"
   ]
  },
  {
   "cell_type": "code",
   "execution_count": 121,
   "metadata": {},
   "outputs": [
    {
     "name": "stdout",
     "output_type": "stream",
     "text": [
      "Mean Squared Error: 118.00367902659872\n",
      "Root Mean Squared Error: 10.862949830805569\n",
      "R2 Score: 0.8136745031293978\n"
     ]
    }
   ],
   "source": [
    "temp = df.columns\n",
    "\n",
    "tmp = []\n",
    "for i in temp:\n",
    "    if i not in ['eta1', 'eta2', 'pt1', 'pt2']:\n",
    "        tmp.append(i)\n",
    "\n",
    "y = df['M']\n",
    "X = df.drop(tmp, axis=1)\n",
    "\n",
    "X_train, X_test, y_train, y_test = train_test_split(\n",
    "    X, y, test_size=0.5, random_state=randomState)\n",
    "\n",
    "y_pred = []\n",
    "\n",
    "for i in X_test.index:\n",
    "    t = [X_test['pt1'][i], X_test['pt2'][i], X_test['eta1'][i], X_test['eta2'][i]]\n",
    "    y_pred.append(f(*t))\n",
    "\n",
    "print(f\"Mean Squared Error: {mean_squared_error(y_test, y_pred)}\")\n",
    "print(f\"Root Mean Squared Error: {sqrt(mean_squared_error(y_test, y_pred))}\")\n",
    "print(f\"R2 Score: {r2_score(y_test, y_pred)}\")"
   ]
  },
  {
   "cell_type": "code",
   "execution_count": 122,
   "metadata": {},
   "outputs": [
    {
     "data": {
      "text/latex": [
       "$\\displaystyle \\sqrt{\\left|{E_{2} pt_{1}}\\right|} + \\left(1.4089260628867 \\left(\\sqrt{\\left|{E_{2} \\left(\\operatorname{inv}{\\left(pz_{2} \\right)}\\bmod{pz_{1}}\\right)}\\right|}\\right)\\right)$"
      ],
      "text/plain": [
       "sqrt(Abs(E2*pt1)) + 1.4089260628867*sqrt(Abs(E2*Mod(inv(pz2), pz1)))"
      ]
     },
     "execution_count": 122,
     "metadata": {},
     "output_type": "execute_result"
    }
   ],
   "source": [
    "model = pickle.load(open('Model10\\hall_of_fame_2022-08-29_213539.841.pkl', 'rb'))\n",
    "model.sympy()"
   ]
  },
  {
   "cell_type": "code",
   "execution_count": 123,
   "metadata": {},
   "outputs": [],
   "source": [
    "def inv(pz2):\n",
    "    return 1 / pz2\n",
    "\n",
    "def f(E2, pt1, pz2, pz1):\n",
    "    return ((math.sqrt(abs(E2*pt1))) + (1.4089260628867 * (math.sqrt(abs(E2*(inv(pz2)%pz1))))))"
   ]
  },
  {
   "cell_type": "code",
   "execution_count": 124,
   "metadata": {},
   "outputs": [
    {
     "name": "stdout",
     "output_type": "stream",
     "text": [
      "Mean Squared Error: 188.86942792838332\n",
      "Root Mean Squared Error: 13.742977404055619\n",
      "R2 Score: 0.70177887424603\n"
     ]
    }
   ],
   "source": [
    "temp = df.columns\n",
    "\n",
    "tmp = []\n",
    "for i in temp:\n",
    "    if i not in ['pt1', 'E2', 'pz1', 'pz2']:\n",
    "        tmp.append(i)\n",
    "\n",
    "y = df['M']\n",
    "X = df.drop(tmp, axis=1)\n",
    "\n",
    "X_train, X_test, y_train, y_test = train_test_split(\n",
    "    X, y, test_size=0.5, random_state=randomState)\n",
    "\n",
    "y_pred = []\n",
    "\n",
    "for i in X_test.index:\n",
    "    t = [X_test['pt1'][i], X_test['E2'][i], X_test['pz1'][i], X_test['pz2'][i]]\n",
    "    y_pred.append(f(*t))\n",
    "\n",
    "print(f\"Mean Squared Error: {mean_squared_error(y_test, y_pred)}\")\n",
    "print(f\"Root Mean Squared Error: {sqrt(mean_squared_error(y_test, y_pred))}\")\n",
    "print(f\"R2 Score: {r2_score(y_test, y_pred)}\")"
   ]
  },
  {
   "cell_type": "code",
   "execution_count": 125,
   "metadata": {},
   "outputs": [
    {
     "data": {
      "image/png": "[encoded data removed]",
      "text/plain": [
       "<Figure size 1008x504 with 1 Axes>"
      ]
     },
     "metadata": {
      "needs_background": "light"
     },
     "output_type": "display_data"
    }
   ],
   "source": [
    "import matplotlib.pyplot as plt\n",
    "from IPython.core.pylabtools import figsize\n",
    "figsize(14, 7)\n",
    "\n",
    "x = [1, 2, 3, 4, 5, 6, 7, 8, 9, 10]\n",
    "allAcc = [0.8111748131722257, 0.7060383436909065, 0.9506410230139132, 0.8779654708427548, 0.8101809242087052, 0.9118758720569022, 0.5181220160478777, 0.8091114243199955, 0.8101833126044764, 0.7015568132301879]\n",
    "\n",
    "tick_label = ['one', 'two', 'three', 'four', 'five', 'six', 'seven', 'eight', 'nine', 'ten']\n",
    "\n",
    "graph = plt.bar(x, allAcc, tick_label = tick_label)\n",
    "\n",
    "plt.xlabel('Model Number')\n",
    "plt.ylabel('R-Square Error')\n",
    "plt.title('PySr R-Square Error Score Chart')\n",
    "\n",
    "i = 0\n",
    "for p in graph:\n",
    "    width = p.get_width()\n",
    "    height = p.get_height()\n",
    "    x, y = p.get_xy()\n",
    "    plt.text(x+width/2,\n",
    "             y+height*1.01,\n",
    "             str(round(allAcc[i], 4)),\n",
    "             ha='center',\n",
    "             weight='bold')\n",
    "    i+=1\n",
    "\n",
    "\n",
    "plt.show()"
   ]
  },
  {
   "cell_type": "code",
   "execution_count": 126,
   "metadata": {},
   "outputs": [
    {
     "name": "stdout",
     "output_type": "stream",
     "text": [
      "Average R-Square Error: 0.7906850013187946\n"
     ]
    }
   ],
   "source": [
    "print(f\"Average R-Square Error: {sum(allAcc)/len(allAcc)}\")"
   ]
  },
  {
   "cell_type": "code",
   "execution_count": 127,
   "metadata": {},
   "outputs": [
    {
     "data": {
      "image/png": "[encoded data removed]",
      "text/plain": [
       "<Figure size 1008x504 with 1 Axes>"
      ]
     },
     "metadata": {
      "needs_background": "light"
     },
     "output_type": "display_data"
    }
   ],
   "source": [
    "import matplotlib.pyplot as plt\n",
    "from IPython.core.pylabtools import figsize\n",
    "figsize(14, 7)\n",
    "\n",
    "x = [1, 2, 3, 4, 5, 6, 7, 8, 9, 10]\n",
    "allAcc = [119.78097506434429, 186.4741373530244, 31.310793283972945, 77.41242118989872, 120.41144704298318, 55.90140885890897, 305.6785789518184, 121.08988269901513, 120.40993196769524, 189.31698950311943]\n",
    "\n",
    "tick_label = ['one', 'two', 'three', 'four', 'five', 'six', 'seven', 'eight', 'nine', 'ten']\n",
    "\n",
    "graph = plt.bar(x, allAcc, tick_label = tick_label)\n",
    "\n",
    "plt.xlabel('Model Number')\n",
    "plt.ylabel('Mean Square Error')\n",
    "plt.title('PySR Mean Square Error Score Chart')\n",
    "\n",
    "i = 0\n",
    "for p in graph:\n",
    "    width = p.get_width()\n",
    "    height = p.get_height()\n",
    "    x, y = p.get_xy()\n",
    "    plt.text(x+width/2,\n",
    "             y+height*1.01,\n",
    "             str(round(allAcc[i], 4)),\n",
    "             ha='center',\n",
    "             weight='bold')\n",
    "    i+=1\n",
    "\n",
    "\n",
    "plt.show()"
   ]
  },
  {
   "cell_type": "code",
   "execution_count": 128,
   "metadata": {},
   "outputs": [
    {
     "name": "stdout",
     "output_type": "stream",
     "text": [
      "Average Mean Square Error: 132.77865659147807\n"
     ]
    }
   ],
   "source": [
    "print(f\"Average Mean Square Error: {sum(allAcc)/len(allAcc)}\")"
   ]
  },
  {
   "cell_type": "code",
   "execution_count": 129,
   "metadata": {},
   "outputs": [
    {
     "data": {
      "image/png": "[encoded data removed]",
      "text/plain": [
       "<Figure size 1008x504 with 1 Axes>"
      ]
     },
     "metadata": {
      "needs_background": "light"
     },
     "output_type": "display_data"
    }
   ],
   "source": [
    "import matplotlib.pyplot as plt\n",
    "from IPython.core.pylabtools import figsize\n",
    "figsize(14, 7)\n",
    "\n",
    "x = [1, 2, 3, 4, 5, 6, 7, 8, 9, 10]\n",
    "allAcc = [10.944449509424597, 13.655553352135694, 5.595604818424273, 8.798432882616012, 10.97321498208174, 7.476724473919644, 17.48366606155066, 11.004084818785028, 10.973145946705314, 13.759251051678628]\n",
    "\n",
    "tick_label = ['one', 'two', 'three', 'four', 'five', 'six', 'seven', 'eight', 'nine', 'ten']\n",
    "\n",
    "graph = plt.bar(x, allAcc, tick_label = tick_label)\n",
    "\n",
    "plt.xlabel('Model Number')\n",
    "plt.ylabel('Root Mean Square Error')\n",
    "plt.title('PySR Root Mean Square Error Score Chart')\n",
    "\n",
    "i = 0\n",
    "for p in graph:\n",
    "    width = p.get_width()\n",
    "    height = p.get_height()\n",
    "    x, y = p.get_xy()\n",
    "    plt.text(x+width/2,\n",
    "             y+height*1.01,\n",
    "             str(round(allAcc[i], 4)),\n",
    "             ha='center',\n",
    "             weight='bold')\n",
    "    i+=1\n",
    "\n",
    "\n",
    "plt.show()"
   ]
  },
  {
   "cell_type": "code",
   "execution_count": 130,
   "metadata": {},
   "outputs": [
    {
     "name": "stdout",
     "output_type": "stream",
     "text": [
      "Average Root Mean Square Error: 11.06641278973216\n"
     ]
    }
   ],
   "source": [
    "print(f\"Average Root Mean Square Error: {sum(allAcc)/len(allAcc)}\")"
   ]
  },
  {
   "cell_type": "markdown",
   "metadata": {},
   "source": [
    "Sappi"
   ]
  },
  {
   "cell_type": "code",
   "execution_count": 131,
   "metadata": {},
   "outputs": [
    {
     "data": {
      "image/png": "[encoded data removed]",
      "text/plain": [
       "<Figure size 1008x504 with 1 Axes>"
      ]
     },
     "metadata": {
      "needs_background": "light"
     },
     "output_type": "display_data"
    }
   ],
   "source": [
    "import matplotlib.pyplot as plt\n",
    "from IPython.core.pylabtools import figsize\n",
    "figsize(14, 7)\n",
    "\n",
    "x = [1, 2, 3, 4, 5, 6, 7, 8, 9, 10]\n",
    "allAcc = [0.3807954946768478, 0.3737110666989232, 0.39018013696725395, 0.3944345386640007, 0.38074985333957934, 0.38147243058309876, 0.3796705493991144, 0.39585771209950604, 0.39286600711830544, 0.37095467213143585]\n",
    "\n",
    "tick_label = ['one', 'two', 'three', 'four', 'five', 'six', 'seven', 'eight', 'nine', 'ten']\n",
    "\n",
    "graph = plt.bar(x, allAcc, tick_label = tick_label)\n",
    "\n",
    "plt.xlabel('Model Number')\n",
    "plt.ylabel('R-Square Error')\n",
    "plt.title('GP Learn R-Square Error Score Chart')\n",
    "\n",
    "i = 0\n",
    "for p in graph:\n",
    "    width = p.get_width()\n",
    "    height = p.get_height()\n",
    "    x, y = p.get_xy()\n",
    "    plt.text(x+width/2,\n",
    "             y+height*1.01,\n",
    "             str(round(allAcc[i], 4)),\n",
    "             ha='center',\n",
    "             weight='bold')\n",
    "    i+=1\n",
    "\n",
    "\n",
    "plt.show()"
   ]
  },
  {
   "cell_type": "code",
   "execution_count": 132,
   "metadata": {},
   "outputs": [
    {
     "name": "stdout",
     "output_type": "stream",
     "text": [
      "Average R-Square Error: 0.38406924616780663\n"
     ]
    }
   ],
   "source": [
    "print(f\"Average R-Square Error: {sum(allAcc)/len(allAcc)}\")"
   ]
  },
  {
   "cell_type": "code",
   "execution_count": 133,
   "metadata": {},
   "outputs": [
    {
     "data": {
      "image/png": "[encoded data removed]",
      "text/plain": [
       "<Figure size 1008x504 with 1 Axes>"
      ]
     },
     "metadata": {
      "needs_background": "light"
     },
     "output_type": "display_data"
    }
   ],
   "source": [
    "import matplotlib.pyplot as plt\n",
    "from IPython.core.pylabtools import figsize\n",
    "figsize(14, 7)\n",
    "\n",
    "x = [1, 2, 3, 4, 5, 6, 7, 8, 9, 10]\n",
    "allAcc = [392.7914525485994, 396.6126304100903, 388.52443312637223, 385.8138966094079, 394.5914611415584, 394.78734353243385, 392.0707667076909, 386.2347163846248, 388.14734582318977, 401.18363402498636]\n",
    "\n",
    "tick_label = ['one', 'two', 'three', 'four', 'five', 'six', 'seven', 'eight', 'nine', 'ten']\n",
    "\n",
    "graph = plt.bar(x, allAcc, tick_label = tick_label)\n",
    "\n",
    "plt.xlabel('Model Number')\n",
    "plt.ylabel('Mean Square Error')\n",
    "plt.title('GP Learn Mean Square Error Score Chart')\n",
    "\n",
    "i = 0\n",
    "for p in graph:\n",
    "    width = p.get_width()\n",
    "    height = p.get_height()\n",
    "    x, y = p.get_xy()\n",
    "    plt.text(x+width/2,\n",
    "             y+height*1.01,\n",
    "             str(round(allAcc[i], 4)),\n",
    "             ha='center',\n",
    "             weight='bold')\n",
    "    i+=1\n",
    "\n",
    "\n",
    "plt.show()"
   ]
  },
  {
   "cell_type": "code",
   "execution_count": 134,
   "metadata": {},
   "outputs": [
    {
     "name": "stdout",
     "output_type": "stream",
     "text": [
      "Average Mean Square Error: 392.07576803089546\n"
     ]
    }
   ],
   "source": [
    "print(f\"Average Mean Square Error: {sum(allAcc)/len(allAcc)}\")"
   ]
  },
  {
   "cell_type": "code",
   "execution_count": 135,
   "metadata": {},
   "outputs": [
    {
     "data": {
      "image/png": "[encoded data removed]",
      "text/plain": [
       "<Figure size 1008x504 with 1 Axes>"
      ]
     },
     "metadata": {
      "needs_background": "light"
     },
     "output_type": "display_data"
    }
   ],
   "source": [
    "import matplotlib.pyplot as plt\n",
    "from IPython.core.pylabtools import figsize\n",
    "figsize(14, 7)\n",
    "\n",
    "x = [1, 2, 3, 4, 5, 6, 7, 8, 9, 10]\n",
    "allAcc = [19.818966989946762, 19.91513571156597, 19.711023137482545, 19.642145926792416, 19.864326345022587, 19.869256240041643, 19.800776921820287, 19.652855171313526, 19.701455423983017, 20.029568992491736]\n",
    "\n",
    "tick_label = ['one', 'two', 'three', 'four', 'five', 'six', 'seven', 'eight', 'nine', 'ten']\n",
    "\n",
    "graph = plt.bar(x, allAcc, tick_label = tick_label)\n",
    "\n",
    "plt.xlabel('Model Number')\n",
    "plt.ylabel('Root Mean Square Error')\n",
    "plt.title('GP Learn Root Mean Square Error Score Chart')\n",
    "\n",
    "i = 0\n",
    "for p in graph:\n",
    "    width = p.get_width()\n",
    "    height = p.get_height()\n",
    "    x, y = p.get_xy()\n",
    "    plt.text(x+width/2,\n",
    "             y+height*1.01,\n",
    "             str(round(allAcc[i], 4)),\n",
    "             ha='center',\n",
    "             weight='bold')\n",
    "    i+=1\n",
    "\n",
    "\n",
    "plt.show()"
   ]
  },
  {
   "cell_type": "code",
   "execution_count": 136,
   "metadata": {},
   "outputs": [
    {
     "name": "stdout",
     "output_type": "stream",
     "text": [
      "Average Root Mean Square Error: 19.80055108604605\n"
     ]
    }
   ],
   "source": [
    "print(f\"Average Root Mean Square Error: {sum(allAcc)/len(allAcc)}\")"
   ]
  }
 ],
 "metadata": {
  "kernelspec": {
   "display_name": "Python 3.10.4 64-bit",
   "language": "python",
   "name": "python3"
  },
  "language_info": {
   "codemirror_mode": {
    "name": "ipython",
    "version": 3
   },
   "file_extension": ".py",
   "mimetype": "text/x-python",
   "name": "python",
   "nbconvert_exporter": "python",
   "pygments_lexer": "ipython3",
   "version": "3.10.4"
  },
  "orig_nbformat": 4,
  "vscode": {
   "interpreter": {
    "hash": "3b97bdc2c87e206e8291e5ab4f714e0f91846bfc9349b2ee1278ba67b5e1fb2e"
   }
  }
 },
 "nbformat": 4,
 "nbformat_minor": 2
}
