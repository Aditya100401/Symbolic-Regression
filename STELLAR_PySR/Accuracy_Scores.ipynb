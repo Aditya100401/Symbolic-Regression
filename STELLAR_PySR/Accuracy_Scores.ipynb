{
 "cells": [
  {
   "cell_type": "code",
   "execution_count": 1,
   "metadata": {},
   "outputs": [],
   "source": [
    "import pandas as pd\n",
    "import numpy as np\n",
    "from sklearn.model_selection import train_test_split\n",
    "from pysr import PySRRegressor\n",
    "import pickle\n",
    "import random\n",
    "from sklearn.metrics import accuracy_score\n"
   ]
  },
  {
   "cell_type": "code",
   "execution_count": 2,
   "metadata": {},
   "outputs": [
    {
     "name": "stdout",
     "output_type": "stream",
     "text": [
      "Random State: 95\n"
     ]
    }
   ],
   "source": [
    "df = pd.read_csv('star_classification.csv')\n",
    "df = df.replace({'GALAXY': 1, 'QSO': 2, 'STAR': 3})\n",
    "\n",
    "y = df['class']\n",
    "X = df.drop(['class'], axis=1)\n",
    "randomState = 95 #random.randint(1, 100) #95\n",
    "\n",
    "print(f\"Random State: {randomState}\")\n",
    "\n",
    "X_train, X_test, y_train, y_test = train_test_split(\n",
    "    X, y, test_size=0.5, random_state=randomState)"
   ]
  },
  {
   "cell_type": "code",
   "execution_count": 3,
   "metadata": {},
   "outputs": [
    {
     "name": "stdout",
     "output_type": "stream",
     "text": [
      "exp(exp(-69.68694*redshift)) + sin(redshift - 3.5106883)**2\n",
      "Accuracy Score: 91.93599999999999%\n"
     ]
    }
   ],
   "source": [
    "pickled_model = pickle.load(open('D:\\College\\Sem 7\\ProjectPhase1\\STELLAR_PySR\\Model1\\hall_of_fame_2022-08-22_201755.820.pkl', 'rb'))\n",
    "y_pred = pickled_model.predict(X_test)\n",
    "y_pred= [np.round(x) for x in y_pred]\n",
    "\n",
    "print(pickled_model.sympy())\n",
    "print(f\"Accuracy Score: {accuracy_score(y_test, y_pred) * 100}%\")"
   ]
  },
  {
   "cell_type": "code",
   "execution_count": 4,
   "metadata": {},
   "outputs": [
    {
     "name": "stdout",
     "output_type": "stream",
     "text": [
      "exp(Mod(1.0*tanh((tanh(redshift) - 0.0045365114)**3), 1.084067))\n",
      "Accuracy Score: 94.792%\n"
     ]
    }
   ],
   "source": [
    "pickled_model = pickle.load(open('D:\\College\\Sem 7\\ProjectPhase1\\STELLAR_PySR\\Model2\\hall_of_fame_2022-08-23_122941.361.pkl', 'rb'))\n",
    "y_pred = pickled_model.predict(X_test)\n",
    "y_pred= [np.round(x) for x in y_pred]\n",
    "\n",
    "print(pickled_model.sympy())\n",
    "print(f\"Accuracy Score: {accuracy_score(y_test, y_pred) * 100}%\")"
   ]
  },
  {
   "cell_type": "code",
   "execution_count": 5,
   "metadata": {},
   "outputs": [
    {
     "name": "stdout",
     "output_type": "stream",
     "text": [
      "cosh(1.7883697*Mod(1.0*2.827495e-19**log(Abs(redshift) + 1), 1) - atan(redshift**2))\n",
      "Accuracy Score: 93.866%\n"
     ]
    }
   ],
   "source": [
    "pickled_model = pickle.load(open('D:\\College\\Sem 7\\ProjectPhase1\\STELLAR_PySR\\Model3\\hall_of_fame_2022-08-25_183346.618.pkl', 'rb'))\n",
    "y_pred = pickled_model.predict(X_test)\n",
    "y_pred= [np.round(x) for x in y_pred]\n",
    "\n",
    "print(pickled_model.sympy())\n",
    "print(f\"Accuracy Score: {accuracy_score(y_test, y_pred) * 100}%\")"
   ]
  },
  {
   "cell_type": "code",
   "execution_count": 6,
   "metadata": {},
   "outputs": [
    {
     "name": "stdout",
     "output_type": "stream",
     "text": [
      "exp(atan(Mod(1.0*Mod(1.0*quart(tanh(redshift)), redshift - 0.0044128294), 1.8955989)))\n",
      "Accuracy Score: 94.682%\n"
     ]
    }
   ],
   "source": [
    "pickled_model = pickle.load(open('D:\\College\\Sem 7\\ProjectPhase1\\STELLAR_PySR\\Model4\\hall_of_fame_2022-08-26_124816.988.pkl', 'rb'))\n",
    "y_pred = pickled_model.predict(X_test)\n",
    "y_pred= [np.round(x) for x in y_pred]\n",
    "\n",
    "print(pickled_model.sympy())\n",
    "print(f\"Accuracy Score: {accuracy_score(y_test, y_pred) * 100}%\")"
   ]
  },
  {
   "cell_type": "code",
   "execution_count": 7,
   "metadata": {},
   "outputs": [
    {
     "name": "stdout",
     "output_type": "stream",
     "text": [
      "exp(sqrt(Abs(sinh(quart(Mod(1.0*quart(cos(acosh(7.48415212078045*Abs(tanh(sinh(redshift))) + 1))), 1))))))\n",
      "Accuracy Score: 94.814%\n"
     ]
    }
   ],
   "source": [
    "pickled_model = pickle.load(open('D:\\College\\Sem 7\\ProjectPhase1\\STELLAR_PySR\\Model5\\hall_of_fame_2022-08-26_212636.717.pkl', 'rb'))\n",
    "y_pred = pickled_model.predict(X_test)\n",
    "y_pred= [np.round(x) for x in y_pred]\n",
    "\n",
    "print(pickled_model.sympy())\n",
    "print(f\"Accuracy Score: {accuracy_score(y_test, y_pred) * 100}%\")"
   ]
  },
  {
   "cell_type": "code",
   "execution_count": 8,
   "metadata": {},
   "outputs": [
    {
     "name": "stdout",
     "output_type": "stream",
     "text": [
      "exp(1.0901299*re(Abs(asinh(tanh(redshift))**3)**tanh(1297.09167235353*redshift**2 + 3.112175e-9)))\n",
      "Accuracy Score: 94.842%\n"
     ]
    }
   ],
   "source": [
    "pickled_model = pickle.load(open('D:\\College\\Sem 7\\ProjectPhase1\\STELLAR_PySR\\Model6\\hall_of_fame_2022-08-27_163019.504.pkl', 'rb'))\n",
    "y_pred = pickled_model.predict(X_test)\n",
    "y_pred= [np.round(x) for x in y_pred]\n",
    "\n",
    "print(pickled_model.sympy())\n",
    "print(f\"Accuracy Score: {accuracy_score(y_test, y_pred) * 100}%\")"
   ]
  },
  {
   "cell_type": "code",
   "execution_count": 9,
   "metadata": {},
   "outputs": [
    {
     "name": "stdout",
     "output_type": "stream",
     "text": [
      "e^{1.09 \\operatorname{re}{\\left(\\left|{\\operatorname{asinh}^{3}{\\left(\\tanh{\\left(redshift \\right)} \\right)}}\\right|^{\\tanh{\\left(1.30 \\cdot 10^{3} redshift^{2} + 3.11 \\cdot 10^{-9} \\right)}}\\right)}}\n"
     ]
    }
   ],
   "source": [
    "print(pickled_model.latex())"
   ]
  },
  {
   "cell_type": "code",
   "execution_count": 10,
   "metadata": {},
   "outputs": [
    {
     "data": {
      "text/latex": [
       "$\\displaystyle e^{1.0901299 \\operatorname{re}{\\left(\\left|{\\operatorname{asinh}^{3}{\\left(\\tanh{\\left(redshift \\right)} \\right)}}\\right|^{\\tanh{\\left(1297.09167235353 redshift^{2} + 3.112175 \\cdot 10^{-9} \\right)}}\\right)}}$"
      ],
      "text/plain": [
       "exp(1.0901299*re(Abs(asinh(tanh(redshift))**3)**tanh(1297.09167235353*redshift**2 + 3.112175e-9)))"
      ]
     },
     "execution_count": 10,
     "metadata": {},
     "output_type": "execute_result"
    }
   ],
   "source": [
    "pickled_model.sympy()"
   ]
  },
  {
   "cell_type": "code",
   "execution_count": 11,
   "metadata": {},
   "outputs": [
    {
     "name": "stdout",
     "output_type": "stream",
     "text": [
      "exp(sinh(Mod(quart(Abs(asinh(tanh(quart(redshift))))**log(Abs(redshift) + 1)), exp(redshift))))\n",
      "Accuracy Score: 94.696%\n"
     ]
    }
   ],
   "source": [
    "pickled_model = pickle.load(open('D:\\College\\Sem 7\\ProjectPhase1\\STELLAR_PySR\\Model7\\hall_of_fame_2022-08-27_201135.898.pkl', 'rb'))\n",
    "y_pred = pickled_model.predict(X_test)\n",
    "y_pred= [np.round(x) for x in y_pred]\n",
    "\n",
    "print(pickled_model.sympy())\n",
    "print(f\"Accuracy Score: {accuracy_score(y_test, y_pred) * 100}%\")"
   ]
  },
  {
   "cell_type": "code",
   "execution_count": 12,
   "metadata": {},
   "outputs": [
    {
     "name": "stdout",
     "output_type": "stream",
     "text": [
      "cosh(sinh(9.831923e-5**redshift)**3) + tanh(quart(redshift))\n",
      "Accuracy Score: 93.308%\n"
     ]
    }
   ],
   "source": [
    "pickled_model = pickle.load(open('D:\\College\\Sem 7\\ProjectPhase1\\STELLAR_PySR\\Model8\\hall_of_fame_2022-08-28_121504.549.pkl', 'rb'))\n",
    "y_pred = pickled_model.predict(X_test)\n",
    "y_pred= [np.round(x) for x in y_pred]\n",
    "\n",
    "print(pickled_model.sympy())\n",
    "print(f\"Accuracy Score: {accuracy_score(y_test, y_pred) * 100}%\")"
   ]
  },
  {
   "cell_type": "code",
   "execution_count": 13,
   "metadata": {},
   "outputs": [
    {
     "name": "stdout",
     "output_type": "stream",
     "text": [
      "exp((-tan(log(Abs(sin(acosh(Abs(redshift) + 1))) + 1) - 0.82221603) - tanh(redshift))**2)\n",
      "Accuracy Score: 93.04%\n"
     ]
    }
   ],
   "source": [
    "pickled_model = pickle.load(open('D:\\College\\Sem 7\\ProjectPhase1\\STELLAR_PySR\\Model9\\hall_of_fame_2022-08-28_134324.170.pkl', 'rb'))\n",
    "y_pred = pickled_model.predict(X_test)\n",
    "y_pred= [np.round(x) for x in y_pred]\n",
    "\n",
    "print(pickled_model.sympy())\n",
    "print(f\"Accuracy Score: {accuracy_score(y_test, y_pred) * 100}%\")"
   ]
  },
  {
   "cell_type": "code",
   "execution_count": 14,
   "metadata": {},
   "outputs": [
    {
     "name": "stdout",
     "output_type": "stream",
     "text": [
      "exp(sinh(Mod(1.0*quart(Abs(asinh(tanh(quart(redshift))))**log(Abs(redshift) + 1)), 1)))\n",
      "Accuracy Score: 94.696%\n"
     ]
    }
   ],
   "source": [
    "pickled_model = pickle.load(open('D:\\College\\Sem 7\\ProjectPhase1\\STELLAR_PySR\\Model10\\hall_of_fame_2022-08-28_150947.302.pkl', 'rb'))\n",
    "y_pred = pickled_model.predict(X_test)\n",
    "y_pred= [np.round(x) for x in y_pred]\n",
    "\n",
    "print(pickled_model.sympy())\n",
    "print(f\"Accuracy Score: {accuracy_score(y_test, y_pred) * 100}%\")"
   ]
  },
  {
   "cell_type": "code",
   "execution_count": 15,
   "metadata": {},
   "outputs": [
    {
     "data": {
      "image/png": "[encoded data removed]",
      "text/plain": [
       "<Figure size 1008x504 with 1 Axes>"
      ]
     },
     "metadata": {
      "needs_background": "light"
     },
     "output_type": "display_data"
    }
   ],
   "source": [
    "import matplotlib.pyplot as plt\n",
    "from IPython.core.pylabtools import figsize\n",
    "figsize(14, 7)\n",
    "\n",
    "x = [1, 2, 3, 4, 5, 6, 7, 8, 9, 10]\n",
    "allAcc = [91.93599999999999, 94.792, 93.866, 94.682, 94.814, 94.842, 94.696, 93.308, 93.04, 94.696]\n",
    "\n",
    "tick_label = ['one', 'two', 'three', 'four', 'five', 'six', 'seven', 'eight', 'nine', 'ten']\n",
    "\n",
    "graph = plt.bar(x, allAcc, tick_label = tick_label)\n",
    "\n",
    "plt.xlabel('Model Number')\n",
    "plt.ylabel('Accuracy')\n",
    "plt.title('PySR Accuracy Score Chart')\n",
    "\n",
    "i = 0\n",
    "for p in graph:\n",
    "    width = p.get_width()\n",
    "    height = p.get_height()\n",
    "    x, y = p.get_xy()\n",
    "    plt.text(x+width/2,\n",
    "             y+height*1.01,\n",
    "             str(round(allAcc[i], 2))+'%',\n",
    "             ha='center',\n",
    "             weight='bold')\n",
    "    i+=1\n",
    "\n",
    "\n",
    "plt.show()"
   ]
  },
  {
   "cell_type": "code",
   "execution_count": 16,
   "metadata": {},
   "outputs": [
    {
     "name": "stdout",
     "output_type": "stream",
     "text": [
      "Average: 94.0672%\n"
     ]
    }
   ],
   "source": [
    "print(f\"Average: {sum(allAcc)/len(allAcc)}%\")"
   ]
  },
  {
   "cell_type": "code",
   "execution_count": 17,
   "metadata": {},
   "outputs": [
    {
     "data": {
      "image/png": "[encoded data removed]",
      "text/plain": [
       "<Figure size 1008x504 with 1 Axes>"
      ]
     },
     "metadata": {
      "needs_background": "light"
     },
     "output_type": "display_data"
    }
   ],
   "source": [
    "import matplotlib.pyplot as plt\n",
    "from IPython.core.pylabtools import figsize\n",
    "figsize(14, 7)\n",
    "\n",
    "x = [1, 2, 3, 4, 5, 6, 7, 8, 9, 10]\n",
    "allAcc = [0.93778, 0.73054, 0.79908, 0.93702, 0.9207, 0.89368, 0.95338, 0.69746, 0.8503, 0.94448]\n",
    "\n",
    "tick_label = ['one', 'two', 'three', 'four', 'five', 'six', 'seven', 'eight', 'nine', 'ten']\n",
    "\n",
    "graph = plt.bar(x, allAcc, tick_label = tick_label)\n",
    "\n",
    "plt.xlabel('Model Number')\n",
    "plt.ylabel('Accuracy')\n",
    "plt.title('GP Learn Accuracy Score Chart')\n",
    "\n",
    "i = 0\n",
    "for p in graph:\n",
    "    width = p.get_width()\n",
    "    height = p.get_height()\n",
    "    x, y = p.get_xy()\n",
    "    plt.text(x+width/2,\n",
    "             y+height*1.01,\n",
    "             str(round(allAcc[i]*100, 2))+'%',\n",
    "             ha='center',\n",
    "             weight='bold')\n",
    "    i+=1\n",
    "\n",
    "\n",
    "plt.show()"
   ]
  },
  {
   "cell_type": "code",
   "execution_count": 18,
   "metadata": {},
   "outputs": [
    {
     "name": "stdout",
     "output_type": "stream",
     "text": [
      "Average: 86.6442%\n"
     ]
    }
   ],
   "source": [
    "print(f\"Average: {(sum(allAcc)*100)/len(allAcc)}%\")"
   ]
  }
 ],
 "metadata": {
  "kernelspec": {
   "display_name": "Python 3.10.4 64-bit",
   "language": "python",
   "name": "python3"
  },
  "language_info": {
   "codemirror_mode": {
    "name": "ipython",
    "version": 3
   },
   "file_extension": ".py",
   "mimetype": "text/x-python",
   "name": "python",
   "nbconvert_exporter": "python",
   "pygments_lexer": "ipython3",
   "version": "3.10.4"
  },
  "orig_nbformat": 4,
  "vscode": {
   "interpreter": {
    "hash": "3b97bdc2c87e206e8291e5ab4f714e0f91846bfc9349b2ee1278ba67b5e1fb2e"
   }
  }
 },
 "nbformat": 4,
 "nbformat_minor": 2
}
