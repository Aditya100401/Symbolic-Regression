{
 "cells": [
  {
   "cell_type": "code",
   "execution_count": 1,
   "metadata": {},
   "outputs": [],
   "source": [
    "import pandas as pd\n",
    "import numpy as np\n",
    "from sklearn.model_selection import train_test_split\n",
    "from pysr import PySRRegressor\n",
    "import pickle"
   ]
  },
  {
   "cell_type": "code",
   "execution_count": 2,
   "metadata": {},
   "outputs": [],
   "source": [
    "df = pd.read_csv('star_classification.csv')\n",
    "\n",
    "mapping = {'GALAXY': 1, 'QSO': 2, 'STAR': 3}\n",
    "df = df.replace({'GALAXY': 1, 'QSO': 2, 'STAR': 3})\n",
    "\n",
    "y = df['class']\n",
    "X = df.drop(['class'], axis=1)\n",
    "\n",
    "X_train, X_test, y_train, y_test = train_test_split(\n",
    "    X, y, test_size=0.5, random_state=54)"
   ]
  },
  {
   "cell_type": "code",
   "execution_count": 3,
   "metadata": {},
   "outputs": [],
   "source": [
    "pickled_model = pickle.load(open('model.pkl', 'rb'))\n",
    "y_pred = pickled_model.predict(X_test)\n",
    "y_pred= [np.round(x) for x in y_pred]"
   ]
  },
  {
   "cell_type": "code",
   "execution_count": 4,
   "metadata": {},
   "outputs": [
    {
     "data": {
      "text/plain": [
       "0.94674"
      ]
     },
     "execution_count": 4,
     "metadata": {},
     "output_type": "execute_result"
    }
   ],
   "source": [
    "from sklearn.metrics import mean_squared_error, accuracy_score\n",
    "#mean_squared_error(y_test, pickled_model.predict(X_test))\n",
    "accuracy_score(y_test, y_pred)"
   ]
  },
  {
   "cell_type": "code",
   "execution_count": 5,
   "metadata": {},
   "outputs": [
    {
     "name": "stdout",
     "output_type": "stream",
     "text": [
      "PySRRegressor.equations_ = [\n",
      "\t    pick     score                                           equation  \\\n",
      "\t0         0.000000                                          1.6178898   \n",
      "\t1         0.363201              exp(pow_abs(-3.302753e-28, redshift))   \n",
      "\t2         0.000063       exp(quart(pow_abs(-3.6245915e-8, redshift)))   \n",
      "\t3         0.348840      exp(pow_abs(quart(tanh(redshift)), redshift))   \n",
      "\t4         0.254040  exp(square(pow_abs(quart(tanh(redshift)), reds...   \n",
      "\t5         0.353374  exp(square(pow_abs(tanh(atan(quart(redshift)))...   \n",
      "\t6         0.116658  exp(cube(pow_abs(asinh(tanh(quart(redshift))),...   \n",
      "\t7         0.006025  exp(quart(pow_abs(asinh(tanh(quart(redshift)))...   \n",
      "\t8         0.133650  exp(atan(quart(sinh(pow_abs(sin(tanh(quart(red...   \n",
      "\t9   >>>>  0.137987  exp(sinh(mod(quart(pow_abs(asinh(tanh(quart(re...   \n",
      "\t10        0.075835  exp(sinh(mod(quart(pow_abs(asinh(tanh(quart(re...   \n",
      "\t11        0.023429  exp(sinh(mod(quart(pow_abs(sin(tanh(quart(reds...   \n",
      "\t12        0.002004  exp(sinh(sinh(sin(mod(quart(pow_abs(sin(tanh(q...   \n",
      "\t13        0.001142  exp(sinh(sinh(sin(mod(quart(pow_abs(sin(tanh(q...   \n",
      "\t14        0.018181  exp(sinh(sinh(sin(mod(quart(pow_abs(sin(tanh(q...   \n",
      "\t15        0.049058  exp(sinh(sinh(sin(mod(quart(pow_abs(sin(tanh(q...   \n",
      "\t16        0.006848  pow_abs(exp(mod(cube(pow_abs(tanh(cube(tanh(sq...   \n",
      "\t\n",
      "\t        loss  complexity  \n",
      "\t0   0.664217           1  \n",
      "\t1   0.223409           4  \n",
      "\t2   0.223395           5  \n",
      "\t3   0.157607           6  \n",
      "\t4   0.122249           7  \n",
      "\t5   0.085857           8  \n",
      "\t6   0.076404           9  \n",
      "\t7   0.075945          10  \n",
      "\t8   0.066444          11  \n",
      "\t9   0.057880          12  \n",
      "\t10  0.053653          13  \n",
      "\t11  0.052410          14  \n",
      "\t12  0.052201          16  \n",
      "\t13  0.052141          17  \n",
      "\t14  0.051202          18  \n",
      "\t15  0.048751          19  \n",
      "\t16  0.048418          20  \n",
      "]\n"
     ]
    }
   ],
   "source": [
    "print(pickled_model)"
   ]
  },
  {
   "cell_type": "code",
   "execution_count": 6,
   "metadata": {},
   "outputs": [
    {
     "data": {
      "text/latex": [
       "$\\displaystyle e^{\\sinh{\\left(1.0 \\operatorname{quart}{\\left(\\left|{\\operatorname{asinh}{\\left(\\tanh{\\left(\\operatorname{quart}{\\left(redshift \\right)} \\right)} \\right)}}\\right|^{\\log{\\left(\\left|{redshift}\\right| + 1 \\right)}} \\right)}\\bmod{1} \\right)}}$"
      ],
      "text/plain": [
       "exp(sinh(Mod(1.0*quart(Abs(asinh(tanh(quart(redshift))))**log(Abs(redshift) + 1)), 1)))"
      ]
     },
     "execution_count": 6,
     "metadata": {},
     "output_type": "execute_result"
    }
   ],
   "source": [
    "pickled_model.sympy()"
   ]
  }
 ],
 "metadata": {
  "kernelspec": {
   "display_name": "Python 3.10.4 64-bit",
   "language": "python",
   "name": "python3"
  },
  "language_info": {
   "codemirror_mode": {
    "name": "ipython",
    "version": 3
   },
   "file_extension": ".py",
   "mimetype": "text/x-python",
   "name": "python",
   "nbconvert_exporter": "python",
   "pygments_lexer": "ipython3",
   "version": "3.10.4"
  },
  "orig_nbformat": 4,
  "vscode": {
   "interpreter": {
    "hash": "3b97bdc2c87e206e8291e5ab4f714e0f91846bfc9349b2ee1278ba67b5e1fb2e"
   }
  }
 },
 "nbformat": 4,
 "nbformat_minor": 2
}
